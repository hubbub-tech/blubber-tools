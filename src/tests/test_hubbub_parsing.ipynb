{
 "cells": [
  {
   "cell_type": "code",
   "execution_count": 19,
   "metadata": {},
   "outputs": [],
   "source": [
    "def parse_timeslots(availabilities):\n",
    "    \"\"\"Takes a list of availabilities formatted as `TIME@DATE`\"\"\"\n",
    "    availabilities.sort(key = lambda entry: entry[-10:-1])\n",
    "    dropoff_schedule = {}\n",
    "    for entry in availabilities:\n",
    "        dropoff_time, dropoff_date = entry.split(\"@\")\n",
    "\n",
    "        if dropoff_schedule.get(dropoff_date, None):\n",
    "            dropoff_schedule[dropoff_date].append(dropoff_time)\n",
    "            dropoff_schedule[dropoff_date].sort()\n",
    "        else:\n",
    "            dropoff_schedule[dropoff_date] = [dropoff_time]\n",
    "            \n",
    "    return dropoff_schedule"
   ]
  },
  {
   "cell_type": "code",
   "execution_count": 20,
   "metadata": {},
   "outputs": [],
   "source": [
    "entries = [\n",
    "             \"10-11am@2021-04-21\",\n",
    "            \"1-2pm@2021-02-20\",\n",
    "            \"10-11am@2021-03-21\",\n",
    "          \"11-12pm@2021-03-21\",\n",
    "            \"10-11am@2021-02-21\", \n",
    "            \"2-3pm@2021-02-21\",\n",
    "            \"10-11pm@2021-03-03\",\n",
    "            \"9-10pm@2021-03-21\", \n",
    "            \"10-11pm@2021-03-21\",\n",
    "            \"9-10am@2021-02-20\", \n",
    "           \"7-8am@2021-04-21\",\n",
    "            \"11-12pm@2021-02-21\",\n",
    "            \"8-9am@2021-02-21\", \n",
    "          ]"
   ]
  },
  {
   "cell_type": "code",
   "execution_count": 21,
   "metadata": {},
   "outputs": [
    {
     "name": "stdout",
     "output_type": "stream",
     "text": [
      "{'2021-02-20': ['1-2pm', '9-10am'], '2021-02-21': ['10-11am', '11-12pm', '2-3pm', '8-9am'], '2021-03-03': ['10-11pm'], '2021-03-21': ['10-11am', '10-11pm', '11-12pm', '9-10pm'], '2021-04-21': ['10-11am', '7-8am']}\n"
     ]
    }
   ],
   "source": [
    "print(parse_timeslots(entries))"
   ]
  },
  {
   "cell_type": "code",
   "execution_count": null,
   "metadata": {},
   "outputs": [],
   "source": [
    "{\n",
    "    '2021-02-21': ['10-11am', '8-9am', '2-3pm', '11-12pm'], \n",
    "    '2021-03-21': ['10-11pm', '10-11am', '10-11am', '10-11pm'], \n",
    "    '2021-02-20': ['9-10am', '1-2pm'], \n",
    "    '2021-03-03': ['10-11pm'], \n",
    "    '2021-04-21': ['10-11am', '7-8am']\n",
    "}\n",
    "\n",
    "{\n",
    "    '2021-02-20': ['9-10am', '1-2pm'], \n",
    "    '2021-02-21': ['8-9am', '10-11am', '11-12pm', '2-3pm'], \n",
    "    '2021-03-03': ['10-11pm'], \n",
    "    '2021-03-21': ['10-11am', '11-12pm', '9-10pm', '10-11pm'], \n",
    "    '2021-04-21': ['7-8am', '10-11am']\n",
    "}\n",
    "\n",
    "{\n",
    "    '2021-02-20': ['1-2pm', '9-10am'], \n",
    "    '2021-02-21': ['10-11am', '2-3pm', '11-12pm', '8-9am'], \n",
    "    '2021-03-03': ['10-11pm'], \n",
    "    '2021-03-21': ['10-11am', '11-12pm', '9-10pm', '10-11pm'], \n",
    "    '2021-04-21': ['10-11am', '7-8am']}"
   ]
  }
 ],
 "metadata": {
  "kernelspec": {
   "display_name": "Python 3",
   "language": "python",
   "name": "python3"
  },
  "language_info": {
   "codemirror_mode": {
    "name": "ipython",
    "version": 3
   },
   "file_extension": ".py",
   "mimetype": "text/x-python",
   "name": "python",
   "nbconvert_exporter": "python",
   "pygments_lexer": "ipython3",
   "version": "3.7.6"
  }
 },
 "nbformat": 4,
 "nbformat_minor": 4
}
