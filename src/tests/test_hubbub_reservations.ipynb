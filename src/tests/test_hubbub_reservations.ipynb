{
 "cells": [
  {
   "cell_type": "code",
   "execution_count": 64,
   "metadata": {},
   "outputs": [],
   "source": [
    "import time\n",
    "import random\n",
    "from datetime import datetime, date, timedelta"
   ]
  },
  {
   "cell_type": "markdown",
   "metadata": {},
   "source": [
    "# Hubbub Reservations\n",
    "\n",
    "We love Hubbub! and testing!!"
   ]
  },
  {
   "cell_type": "markdown",
   "metadata": {},
   "source": [
    "## Introduction\n",
    "\n",
    "This Jupyter Notebook is a walkthrough of how to use this testing script for Hubbub reservations. A Hubbub reservation has been simplified here for the purpose of testing new features on date manipulation without all of the other attributes which make reservations complex.\n",
    "\n",
    "Date manipulation is at the core of the Hubbub Shop infrastructure, so it is incredibly important to make sure that *any new feature is thoroughly tested with >10000 simulations*. This notebook will hopefully make it easier to:\n",
    "\n",
    "1. see previous tests\n",
    "2. re-run old tests\n",
    "3. debug undiscovered problems\n",
    "4. and create new features!\n",
    "\n",
    "This is a living document, so once your feature and test have been successfully built, document it here for posterity."
   ]
  },
  {
   "cell_type": "markdown",
   "metadata": {},
   "source": [
    "## Get Started\n",
    "\n",
    "Begin by importing the modules at the top of the notebook. You'll need all of them to make the tests work. You will also need to execute the input box below. These functions and classes define the 'dummy' objects which mock the real Hubbub reservations. They are only for testing date manipulation."
   ]
  },
  {
   "cell_type": "code",
   "execution_count": 48,
   "metadata": {},
   "outputs": [],
   "source": [
    "# Constants to be referenced throughout the notebook.\n",
    "LOWER_LIMIT = date(2020, 1, 1)\n",
    "UPPER_LIMIT = date(2025, 1, 1)\n",
    "DATE_FORMAT = '%Y-%m-%d'\n",
    "\n",
    "\n",
    "# Date generator is used to produce a random date within the range\n",
    "# defined by the constants LOWER_LIMIT and UPPER_LIMIT.\n",
    "def date_generator(start=LOWER_LIMIT, end=UPPER_LIMIT):\n",
    "    start_date = start\n",
    "    end_date = end\n",
    "    time_between_dates = end_date - start_date\n",
    "    days_between_dates = time_between_dates.days\n",
    "    random_number_of_days = random.randrange(days_between_dates)\n",
    "    return start_date + timedelta(days=random_number_of_days)\n",
    "\n",
    "# Returns a tuple of random dates, where start < end\n",
    "def create_date_range():\n",
    "    start = date_generator()\n",
    "    end = date_generator()\n",
    "    \n",
    "    #cannot have intervals like [10, 10]... \n",
    "    #could create overlapping reservations\n",
    "    while end <= start:\n",
    "        start, end = create_date_range()\n",
    "    return start, end\n",
    "\n",
    "# This is the mock class for the Hubbub reservation. It uses the same variable\n",
    "# names as the original as of the time writing this, so it is easily portable.\n",
    "class Reservations:\n",
    "    \n",
    "    # If the user does not define the start and end, then they are randomly generated\n",
    "    def __init__(self, min_start=None, max_end=None):\n",
    "        if min_start and max_end:\n",
    "            self.date_started = min_start\n",
    "            self.date_ended = max_end\n",
    "        else:\n",
    "            self.date_started, self.date_ended = create_date_range()\n",
    "            \n",
    "        # NOTE: self._length does NOT exist in the Hubbub reservations, this is just for testing\n",
    "        self._length = (self.date_ended - self.date_started).days\n",
    "    \n",
    "    # Representation of the reservation\n",
    "    def __repr__(self):\n",
    "        return f\"<{self.date_started.strftime(DATE_FORMAT)} to {self.date_ended.strftime(DATE_FORMAT)}>\"\n",
    "    \n",
    "class Calendars(Reservations):\n",
    "    \n",
    "    def __init__(self, min_start=None, max_end=None):\n",
    "        super().__init__(min_start, max_end)\n",
    "        self.reservations = []\n",
    "    \n",
    "    def add(self, reservation):\n",
    "        self.reservations.append(reservation)\n",
    "        \n",
    "    def remove(self, reservation):\n",
    "        _reservations = self.reservations.copy()\n",
    "        i = 0\n",
    "        while i < len(_reservations):\n",
    "            if res.date_started == reservation.date_started:\n",
    "                if res.date_ended == reservation.date_ended:\n",
    "                    _reservations.remove(res)\n",
    "                    break\n",
    "            i += 1\n",
    "        self.reservations = _reservations"
   ]
  },
  {
   "cell_type": "markdown",
   "metadata": {},
   "source": [
    "Once you've run the input above, you are ready to go! From here, this will just cover the tests done on reservations to date. Add you tests to the end of the file and good luck! Include thorough notes explaining what you did, what the results are, and unexpected challenges."
   ]
  },
  {
   "cell_type": "markdown",
   "metadata": {},
   "source": [
    "## Tests"
   ]
  },
  {
   "cell_type": "markdown",
   "metadata": {},
   "source": [
    "### Scheduler\n",
    "\n",
    "Scheduler is a function which accepts an object of type Reservations and an object of type Calendars, and returns either **True**, **False**, or **None**.\n",
    "\n",
    "1. True - returned when the input reservation does not conflict with existing reservations in calendar. Does not edit the calendar.\n",
    "2. False - returned when the input does conflict with a reservation in calendar.\n",
    "3. None - returned when the calendar is no longer schedulable.\n",
    "\n",
    "There are two implementations of the scheduler() below: a) an iterative implementation, and b) a recursive implementation. Both should work just fine; however the recursive is currently deployed."
   ]
  },
  {
   "cell_type": "code",
   "execution_count": 54,
   "metadata": {},
   "outputs": [],
   "source": [
    "# In Hubbub, this function is built into calendar as an instancemethod however, we separate it here for testing.\n",
    "\n",
    "# Iterative scheduler (id = 0)\n",
    "def iterative_scheduler(calendar, reservation):\n",
    "    bookings = calendar.reservations.copy()\n",
    "    if len(bookings) == 0:\n",
    "        if date.today() < calendar.date_ended:\n",
    "            return True\n",
    "        else:\n",
    "            return None\n",
    "    else:\n",
    "        bookings.sort(key = lambda res: res.date_ended)\n",
    "        for i in range(len(bookings)):\n",
    "            if bookings[i].date_ended <= reservation.date_started:\n",
    "                if i + 1 < len(bookings):\n",
    "                    if bookings[i + 1].date_started >= reservation.date_ended:\n",
    "                        return True\n",
    "                elif i + 1 == len(bookings):\n",
    "                    return True\n",
    "        if bookings[0].date_started >= reservation.date_ended:\n",
    "            return True\n",
    "        return False\n",
    "    \n",
    "# Recursive scheduler (id = 1) - in production\n",
    "def recursive_scheduler(bookings, bounds, reservation):\n",
    "    bookings.sort(key = lambda res: res.date_ended)\n",
    "    _bookings = bookings.copy()\n",
    "    if len(_bookings) == 0:\n",
    "        if date.today() < bounds.date_ended:\n",
    "            return True\n",
    "        else:\n",
    "            return None\n",
    "    else:\n",
    "        comparison_res = _bookings.pop(0)\n",
    "        if comparison_res.date_ended <= reservation.date_started:\n",
    "            return recursive_scheduler(_bookings, bounds, reservation)\n",
    "        elif comparison_res.date_started >= reservation.date_ended:\n",
    "            return recursive_scheduler(_bookings, bounds, reservation)\n",
    "        else:\n",
    "            return False\n"
   ]
  },
  {
   "cell_type": "markdown",
   "metadata": {},
   "source": [
    "Now to write the test function. The test function will be different depending on which scheduler you choose, but it works fundamentally the same way."
   ]
  },
  {
   "cell_type": "code",
   "execution_count": 65,
   "metadata": {},
   "outputs": [],
   "source": [
    "# Takes the number of simulations you want to run and returns an error if a reservation is incorrectly added.\n",
    "# return f\"Calendar is valid. See for yourself: {bookings} \\n\\nand this is the empty array {_bookings}\"\n",
    "def test_scheduler(function_id=None, simulations=100, debug=False):\n",
    "    start_time = time.time()\n",
    "    calendar = Calendars(min_start=LOWER_LIMIT, max_end=UPPER_LIMIT)\n",
    "    if debug:\n",
    "        print(\"The calendar is initialized.\")\n",
    "        print(\"The calendar bounds: \", calendar)\n",
    "        print(\"The calendar reservations: \", calendar.reservations)\n",
    "    i = 0\n",
    "    if function_id == 1:  \n",
    "        while i < simulations:\n",
    "            test_reservation = Reservations()\n",
    "            if recursive_scheduler(calendar.reservations, calendar, test_reservation):\n",
    "                calendar.add(test_reservation)\n",
    "                if debug:\n",
    "                    print(f\"Your reservation for {test_reservation} is valid, it seems.\")\n",
    "                    print(\" Updated calendar reservations: \", calendar.reservations)\n",
    "            elif debug:\n",
    "                print(\"It's invalid, sorry.\")\n",
    "                print(\"Your request: \", test_reservation)\n",
    "                print(\"Existing reservations: \", calendar.reservations)\n",
    "            i += 1\n",
    "    elif function_id == 0:\n",
    "        while i < simulations:\n",
    "            test_reservation = Reservations()\n",
    "            if iterative_scheduler(calendar, test_reservation):\n",
    "                calendar.add(test_reservation)\n",
    "                if debug:\n",
    "                    print(f\"Your reservation for {test_reservation} is valid, it seems.\")\n",
    "                    print(\" Updated calendar reservations: \", calendar.reservations)\n",
    "            elif debug:\n",
    "                print(\"It's invalid, sorry.\")\n",
    "                print(\"Your request: \", test_reservation)\n",
    "                print(\"Existing reservations: \", calendar.reservations)\n",
    "            i += 1\n",
    "    else:\n",
    "        raise Exception(\"please select a scheduler to test!\")\n",
    "    calendar.reservations.sort(key = lambda res: res.date_ended)\n",
    "    test_bookings = calendar.reservations.copy()\n",
    "    while len(test_bookings) > 1:\n",
    "        if test_bookings[0].date_ended <= test_bookings[1].date_started:\n",
    "            valid_reservations = test_bookings.pop(0)\n",
    "        else:\n",
    "            return f\"Error, the comparison between {test_bookings[0]} and {test_bookings[1]} failed.\"\n",
    "    return f\"Test passed. {simulations} simulations executed in {time.time() - start_time} seconds.\""
   ]
  },
  {
   "cell_type": "markdown",
   "metadata": {},
   "source": [
    "Now it's time to tests! Run the code below to simulate scheduler. Make sure you select a version of scheduler to test. ID = 0 is for iterative while ID = 1 is for recursive."
   ]
  },
  {
   "cell_type": "code",
   "execution_count": 69,
   "metadata": {},
   "outputs": [],
   "source": [
    "# Test conditions\n",
    "ID = 1\n",
    "SIMULATION_COUNT = 100\n",
    "DEBUG = False\n",
    "\n",
    "# test_scheduler(function_id=ID, simulations=SIMULATION_COUNT, debug=DEBUG)"
   ]
  },
  {
   "cell_type": "markdown",
   "metadata": {},
   "source": [
    "And that wraps it up! Leave a note or email at [Ade Balogun](mailto:adb2189@columbia.edu) if you want to suggest improvements to this test, or believe it is failing in some way."
   ]
  },
  {
   "cell_type": "markdown",
   "metadata": {},
   "source": [
    "### Availabilities\n",
    "\n",
    "These functions are important for determining if an item is available to on a select date (check_availability) and returning the nearest range of dates for which it is available (next_availability)."
   ]
  },
  {
   "cell_type": "code",
   "execution_count": 63,
   "metadata": {},
   "outputs": [],
   "source": [
    "# Checks to see whether or not the calendar has a reservation which overlaps with the input date.\n",
    "def check_availability(calendar, check_date):\n",
    "    if len(calendar.reservations) == 0:\n",
    "        return True\n",
    "    for reservation in calendar.reservations:\n",
    "        if reservation.date_started <= check_date:\n",
    "            if reservation.date_ended >= check_date:\n",
    "                return False\n",
    "    return True"
   ]
  },
  {
   "cell_type": "markdown",
   "metadata": {},
   "source": [
    "Now for the test function for check_availability:"
   ]
  },
  {
   "cell_type": "code",
   "execution_count": 83,
   "metadata": {},
   "outputs": [],
   "source": [
    "# Test check_availability\n",
    "def test_check_availability(simulations=100, debug=False):\n",
    "    start_time = time.time()\n",
    "    i = 0\n",
    "    while i < simulations:\n",
    "        toggle = random.choice([True, False])\n",
    "        \n",
    "        test_date = date_generator()\n",
    "        calendar = Calendars(min_start=LOWER_LIMIT, max_end=UPPER_LIMIT)\n",
    "        \n",
    "        if toggle:\n",
    "            test_start = test_date - timedelta(days=2)\n",
    "            test_end = test_date + timedelta(days=2)\n",
    "            test_reservation = Reservations(min_start=test_start, max_end=test_end)\n",
    "            if debug:\n",
    "                print(\"Test date has been initialized: \", test_date)\n",
    "                print(\"Test reservation has been initialized to purposefully block the test_date: \", test_reservation)\n",
    "            calendar.add(test_reservation)\n",
    "        elif debug:\n",
    "            print(\"The test date should be valid.\")\n",
    "        result = check_availability(calendar, test_date)\n",
    "        if toggle and result:\n",
    "            raise Exception(f\"Test failed! date: {test_date} is NOT in range {calendar}\")\n",
    "        elif toggle == False and result == False:\n",
    "            raise Exception(f\"Test failed! date: {test_date} IS in range {calendar}\")\n",
    "        i += 1\n",
    "    return f\"Test passed. {simulations} simulations executed in {time.time() - start_time} seconds.\""
   ]
  },
  {
   "cell_type": "markdown",
   "metadata": {},
   "source": [
    "Now execute the code below to run the test."
   ]
  },
  {
   "cell_type": "code",
   "execution_count": 87,
   "metadata": {},
   "outputs": [],
   "source": [
    "# Test conditions\n",
    "SIMULATION_COUNT = 100\n",
    "DEBUG = True\n",
    "\n",
    "# test_check_availability(simulations=SIMULATION_COUNT, debug=DEBUG)"
   ]
  },
  {
   "cell_type": "markdown",
   "metadata": {},
   "source": [
    "Now to test next_availability:"
   ]
  },
  {
   "cell_type": "code",
   "execution_count": 93,
   "metadata": {},
   "outputs": [],
   "source": [
    "# A function which returns the next available date range in the calendar\n",
    "def next_availability(calendar, MARGIN=2):\n",
    "    closest_operating_date = date.today() + timedelta(days=MARGIN)\n",
    "    calendar.reservations.sort(key = lambda res: res.date_ended)\n",
    "    _bookings = calendar.reservations.copy()\n",
    "    if len(_bookings) == 0:\n",
    "        if closest_operating_date > calendar.date_started:\n",
    "            return [closest_operating_date, calendar.date_ended]\n",
    "        else:\n",
    "            return [calendar.date_started, calendar.date_ended]\n",
    "    for i in range(len(_bookings)):\n",
    "        if i + 1 < len(_bookings):\n",
    "            if _bookings[i].date_ended < _bookings[i + 1].date_started:\n",
    "                if closest_operating_date < _bookings[i].date_ended:\n",
    "                    return [_bookings[i].date_ended, _bookings[i + 1].date_started]\n",
    "                elif closest_operating_date < _bookings[i + 1].date_started:\n",
    "                    return [closest_operating_date, _bookings[i + 1].date_started]\n",
    "        elif _bookings[0].date_started > closest_operating_date:\n",
    "            if closest_operating_date >= calendar.date_started:\n",
    "                return [closest_operating_date, _bookings[0].date_started]\n",
    "            elif _bookings[0].date_started > calendar.date_started:\n",
    "                return [calendar.date_started, _bookings[0].date_started]\n",
    "            else:\n",
    "                return [_bookings[i].date_ended, calendar.date_ended]\n",
    "        elif closest_operating_date < calendar.date_ended:\n",
    "            if closest_operating_date > _bookings[i].date_ended:\n",
    "                return [closest_operating_date, calendar.date_ended]\n",
    "            else:\n",
    "                return [_bookings[i].date_ended, calendar.date_ended]\n",
    "        else:\n",
    "            return [closest_operating_date, closest_operating_date]"
   ]
  },
  {
   "cell_type": "markdown",
   "metadata": {},
   "source": [
    "The test below most likely works, but if the logic does not make sense, please contact me because it was a headache of a test to write!"
   ]
  },
  {
   "cell_type": "code",
   "execution_count": 131,
   "metadata": {},
   "outputs": [],
   "source": [
    "# Test next_availability by checking if it overlaps with any reservations or is NOT the earliest reservation.\n",
    "def test_next_availability(simulations=100, debug=False):\n",
    "    start_time = time.time()\n",
    "    calendar = Calendars(min_start=LOWER_LIMIT, max_end=UPPER_LIMIT)\n",
    "    i = 0\n",
    "    while i < simulations:\n",
    "        test_reservation = Reservations()\n",
    "        if recursive_scheduler(calendar.reservations, calendar, test_reservation):\n",
    "            calendar.add(test_reservation)\n",
    "            if debug:\n",
    "                print(\"Your reservation is valid, it seems. New calendar: \", calendar.reservations)\n",
    "        elif debug:\n",
    "            print(\"It's invalid, sorry.\")\n",
    "            print(\"Your request: \", test_reservation)\n",
    "            print(\"Existing bookings: \", calendar.reservations)\n",
    "        \n",
    "        next_available_start, next_available_end = next_availability(calendar)\n",
    "        \n",
    "        calendar.reservations.sort(key = lambda res: res.date_ended)\n",
    "        test_bookings = calendar.reservations\n",
    "        while len(test_bookings) > 1:\n",
    "            if test_bookings[0].date_ended == next_available_start:\n",
    "                if test_bookings[1].date_started == next_available_end:\n",
    "                    break\n",
    "                else:\n",
    "                    case = 1\n",
    "                    print(f\"Error Type({case}), next_availability did not propose the full range of availability.\")\n",
    "                    print(\"Real Availability Start: \", test_bookings[0].date_ended)\n",
    "                    print(\"Real Availability End: \", test_bookings[1].date_started)\n",
    "                    print(f\"The availability which was proposed: {next_available_start} to {next_available_end}\")\n",
    "                    return None\n",
    "            elif test_bookings[0].date_ended < next_available_start:\n",
    "                if test_bookings[0].date_ended == test_bookings[1].date_started:\n",
    "                    discard_reservations = test_bookings.pop(0)\n",
    "                elif test_bookings[1].date_started >= next_available_end:\n",
    "                    #NOTE: this case usually seems to be described by the fact that today's date is not equal to test_bookings[0].date_ended\n",
    "                    case = 2\n",
    "                    print(f\"Error Type({case}), next_availability did not propose the full range of availability.\")\n",
    "                    print(\"Real Availability Start: \", test_bookings[0].date_ended)\n",
    "                    print(\"Real Availability End: \", test_bookings[1].date_started)\n",
    "                    print(f\"The availability which was proposed: {next_available_start} to {next_available_end}\")\n",
    "                    return None\n",
    "                elif test_bookings[1].date_started < next_available_start:\n",
    "                    if test_bookings[1].date_ended > next_available_start:\n",
    "                        case = 3\n",
    "                        print(f\"Error Type({case}), invalid availability provided.\")\n",
    "                        print(f\"Availability: {next_available_start} to {next_available_end}\")\n",
    "                        print(f\"Overlapping with - \")\n",
    "                        print(\"Reservation Start: \", test_bookings[1].date_started)\n",
    "                        print(\"Reservation End: \", test_bookings[1].date_ended)\n",
    "                        print(f\"The availability which was proposed: {next_available_start} to {next_available_end}\")\n",
    "                        return None\n",
    "                    else:\n",
    "                        case = 4\n",
    "                        print(f\"Error Type({case}), Looks like we missed a valid reservation between.\")\n",
    "                        print(\"Earliest Availability Start: \", test_bookings[0].date_ended)\n",
    "                        print(\"Earliest Availability End: \", test_bookings[1].date_started)\n",
    "                        print(\"Tailing Reservation: \", test_bookings[1])\n",
    "                        print(f\"The availability which was proposed: {next_available_start} to {next_available_end}\")\n",
    "                        return None\n",
    "            elif test_bookings[0].date_start < next_available_start:\n",
    "                case = 5\n",
    "                print(f\"Error Type({case}), invalid availability provided.\")\n",
    "                print(f\"Availability: {next_available_start} to {next_available_end}\")\n",
    "                print(f\"Overlapping with reservation: {test_bookings[0]}\")\n",
    "                return None\n",
    "            else:\n",
    "                break\n",
    "        i += 1\n",
    "    return f\"Test passed. {simulations} simulations executed in {time.time() - start_time} seconds.\""
   ]
  },
  {
   "cell_type": "code",
   "execution_count": 133,
   "metadata": {},
   "outputs": [],
   "source": [
    "# Test conditions\n",
    "SIMULATION_COUNT = 100\n",
    "DEBUG = False\n",
    "\n",
    "# test_next_availability(simulations=SIMULATION_COUNT, debug=DEBUG)"
   ]
  },
  {
   "cell_type": "markdown",
   "metadata": {},
   "source": [
    "The tests for next_availability seem to fail on case 4. Still developing the solution..."
   ]
  },
  {
   "cell_type": "code",
   "execution_count": null,
   "metadata": {},
   "outputs": [],
   "source": []
  }
 ],
 "metadata": {
  "kernelspec": {
   "display_name": "Python 3",
   "language": "python",
   "name": "python3"
  },
  "language_info": {
   "codemirror_mode": {
    "name": "ipython",
    "version": 3
   },
   "file_extension": ".py",
   "mimetype": "text/x-python",
   "name": "python",
   "nbconvert_exporter": "python",
   "pygments_lexer": "ipython3",
   "version": "3.7.6"
  }
 },
 "nbformat": 4,
 "nbformat_minor": 4
}
