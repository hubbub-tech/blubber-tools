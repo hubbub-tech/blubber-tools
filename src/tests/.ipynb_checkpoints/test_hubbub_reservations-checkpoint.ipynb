{
 "cells": [
  {
   "cell_type": "code",
   "execution_count": 131,
   "metadata": {},
   "outputs": [
    {
     "name": "stdout",
     "output_type": "stream",
     "text": [
      "d1 = 06-2020\n",
      "d2 = June 25, 2020\n"
     ]
    }
   ],
   "source": [
    "import datetime\n",
    "\n",
    "today = date.today()\n",
    "\n",
    "# dd/mm/YY\n",
    "d1 = today.strftime(\"%m-%Y\")\n",
    "print(\"d1 =\", d1)\n",
    "\n",
    "# Textual month, day and year\t\n",
    "d2 = today.strftime(\"%B %d, %Y\")\n",
    "print(\"d2 =\", d2)"
   ]
  },
  {
   "cell_type": "code",
   "execution_count": 1,
   "metadata": {},
   "outputs": [],
   "source": [
    "calendar = []"
   ]
  },
  {
   "cell_type": "code",
   "execution_count": 134,
   "metadata": {},
   "outputs": [],
   "source": [
    "def update_cal(calendar, interval, test):\n",
    "    if test == False:\n",
    "        calendar.append(interval)\n",
    "        calendar.sort(key = lambda x: x[1])    \n",
    "\n",
    "def scheduler(calendar, interval, test=False):\n",
    "    if len(calendar) == 0:\n",
    "        update_cal(calendar, interval, test)\n",
    "        return True\n",
    "    else:\n",
    "        calendar.sort(key = lambda x: x[1])\n",
    "        #calendar.reverse()\n",
    "        for i in range(len(calendar)):\n",
    "            if calendar[i][1] <= interval[0]:\n",
    "                if i + 1 < len(calendar):\n",
    "                    if calendar[i + 1][0] >= interval[1]:\n",
    "                        update_cal(calendar, interval, test)\n",
    "                        return True\n",
    "                elif i + 1 == len(calendar):\n",
    "                    update_cal(calendar, interval, test)\n",
    "                    return True\n",
    "        if calendar[0][0] >= interval[1]:\n",
    "            update_cal(calendar, interval, test)\n",
    "            return True\n",
    "        print(interval)\n",
    "        return False\n",
    "    \n"
   ]
  },
  {
   "cell_type": "code",
   "execution_count": 135,
   "metadata": {},
   "outputs": [],
   "source": [
    "def date_generator(start=datetime.date(2020, 1, 1), end=datetime.date(2022, 1, 1)):\n",
    "    start_date = datetime.date(2020, 1, 1)\n",
    "    end_date = datetime.date(2020, 2, 1)\n",
    "\n",
    "    time_between_dates = end_date - start_date\n",
    "    days_between_dates = time_between_dates.days\n",
    "    random_number_of_days = random.randrange(days_between_dates)\n",
    "    return start_date + datetime.timedelta(days=random_number_of_days)"
   ]
  },
  {
   "cell_type": "code",
   "execution_count": 86,
   "metadata": {},
   "outputs": [
    {
     "name": "stdout",
     "output_type": "stream",
     "text": [
      "True\n"
     ]
    }
   ],
   "source": [
    "cal = []\n",
    "\n",
    "res = [datetime.now(tz=pytz.UTC),4]\n",
    "\n",
    "print(scheduler(cal, res))"
   ]
  },
  {
   "cell_type": "code",
   "execution_count": 87,
   "metadata": {},
   "outputs": [
    {
     "name": "stdout",
     "output_type": "stream",
     "text": [
      "[1, 4]\n",
      "False\n"
     ]
    }
   ],
   "source": [
    "print(scheduler(cal, res))"
   ]
  },
  {
   "cell_type": "code",
   "execution_count": 88,
   "metadata": {},
   "outputs": [
    {
     "name": "stdout",
     "output_type": "stream",
     "text": [
      "True\n"
     ]
    }
   ],
   "source": [
    "print(scheduler(cal, [4,5]))"
   ]
  },
  {
   "cell_type": "code",
   "execution_count": 89,
   "metadata": {},
   "outputs": [
    {
     "name": "stdout",
     "output_type": "stream",
     "text": [
      "[[1, 4], [4, 5]]\n"
     ]
    }
   ],
   "source": [
    "print(cal)"
   ]
  },
  {
   "cell_type": "code",
   "execution_count": 90,
   "metadata": {},
   "outputs": [
    {
     "name": "stdout",
     "output_type": "stream",
     "text": [
      "True\n"
     ]
    }
   ],
   "source": [
    "print(scheduler(cal, [5,8]))"
   ]
  },
  {
   "cell_type": "code",
   "execution_count": 91,
   "metadata": {},
   "outputs": [
    {
     "name": "stdout",
     "output_type": "stream",
     "text": [
      "[6, 8]\n",
      "False\n"
     ]
    }
   ],
   "source": [
    "print(scheduler(cal, [6,8]))"
   ]
  },
  {
   "cell_type": "code",
   "execution_count": 92,
   "metadata": {},
   "outputs": [
    {
     "name": "stdout",
     "output_type": "stream",
     "text": [
      "[[1, 4], [4, 5], [5, 8]]\n"
     ]
    }
   ],
   "source": [
    "print(cal)"
   ]
  },
  {
   "cell_type": "code",
   "execution_count": 93,
   "metadata": {},
   "outputs": [
    {
     "name": "stdout",
     "output_type": "stream",
     "text": [
      "True\n"
     ]
    }
   ],
   "source": [
    "print(scheduler(cal, [8,12]))"
   ]
  },
  {
   "cell_type": "code",
   "execution_count": 94,
   "metadata": {},
   "outputs": [
    {
     "name": "stdout",
     "output_type": "stream",
     "text": [
      "[9, 10]\n",
      "False\n"
     ]
    }
   ],
   "source": [
    "print(scheduler(cal, [9,10]))"
   ]
  },
  {
   "cell_type": "code",
   "execution_count": 95,
   "metadata": {},
   "outputs": [
    {
     "name": "stdout",
     "output_type": "stream",
     "text": [
      "[[1, 4], [4, 5], [5, 8], [8, 12]]\n"
     ]
    }
   ],
   "source": [
    "print(cal)"
   ]
  },
  {
   "cell_type": "code",
   "execution_count": 96,
   "metadata": {},
   "outputs": [
    {
     "name": "stdout",
     "output_type": "stream",
     "text": [
      "True\n"
     ]
    }
   ],
   "source": [
    "print(scheduler(cal, [14,20]))"
   ]
  },
  {
   "cell_type": "code",
   "execution_count": 97,
   "metadata": {},
   "outputs": [
    {
     "name": "stdout",
     "output_type": "stream",
     "text": [
      "[10, 17]\n",
      "False\n"
     ]
    }
   ],
   "source": [
    "print(scheduler(cal, [10,17]))"
   ]
  },
  {
   "cell_type": "code",
   "execution_count": 98,
   "metadata": {},
   "outputs": [
    {
     "name": "stdout",
     "output_type": "stream",
     "text": [
      "[[1, 4], [4, 5], [5, 8], [8, 12], [14, 20]]\n"
     ]
    }
   ],
   "source": [
    "print(cal)"
   ]
  },
  {
   "cell_type": "code",
   "execution_count": 99,
   "metadata": {},
   "outputs": [
    {
     "name": "stdout",
     "output_type": "stream",
     "text": [
      "True\n"
     ]
    }
   ],
   "source": [
    "print(scheduler(cal, [12,14]))"
   ]
  },
  {
   "cell_type": "code",
   "execution_count": 100,
   "metadata": {},
   "outputs": [
    {
     "name": "stdout",
     "output_type": "stream",
     "text": [
      "[[1, 4], [4, 5], [5, 8], [8, 12], [12, 14], [14, 20]]\n"
     ]
    }
   ],
   "source": [
    "print(cal)"
   ]
  },
  {
   "cell_type": "code",
   "execution_count": 136,
   "metadata": {},
   "outputs": [],
   "source": [
    "import random\n",
    "cal = []"
   ]
  },
  {
   "cell_type": "code",
   "execution_count": 137,
   "metadata": {},
   "outputs": [
    {
     "name": "stdout",
     "output_type": "stream",
     "text": [
      "True\n",
      "[[datetime.date(2020, 1, 15), datetime.date(2020, 1, 29)]]\n",
      "\n",
      "\n",
      "[datetime.date(2020, 1, 9), datetime.date(2020, 1, 31)]\n",
      "False\n",
      "[[datetime.date(2020, 1, 15), datetime.date(2020, 1, 29)]]\n",
      "\n",
      "\n",
      "[datetime.date(2020, 1, 27), datetime.date(2020, 1, 30)]\n",
      "False\n",
      "[[datetime.date(2020, 1, 15), datetime.date(2020, 1, 29)]]\n",
      "\n",
      "\n",
      "True\n",
      "[[datetime.date(2020, 1, 3), datetime.date(2020, 1, 6)], [datetime.date(2020, 1, 15), datetime.date(2020, 1, 29)]]\n",
      "\n",
      "\n",
      "True\n",
      "[[datetime.date(2020, 1, 3), datetime.date(2020, 1, 6)], [datetime.date(2020, 1, 6), datetime.date(2020, 1, 9)], [datetime.date(2020, 1, 15), datetime.date(2020, 1, 29)]]\n",
      "\n",
      "\n",
      "[datetime.date(2020, 1, 1), datetime.date(2020, 1, 26)]\n",
      "False\n",
      "[[datetime.date(2020, 1, 3), datetime.date(2020, 1, 6)], [datetime.date(2020, 1, 6), datetime.date(2020, 1, 9)], [datetime.date(2020, 1, 15), datetime.date(2020, 1, 29)]]\n",
      "\n",
      "\n",
      "[datetime.date(2020, 1, 18), datetime.date(2020, 1, 29)]\n",
      "False\n",
      "[[datetime.date(2020, 1, 3), datetime.date(2020, 1, 6)], [datetime.date(2020, 1, 6), datetime.date(2020, 1, 9)], [datetime.date(2020, 1, 15), datetime.date(2020, 1, 29)]]\n",
      "\n",
      "\n",
      "[datetime.date(2020, 1, 20), datetime.date(2020, 1, 27)]\n",
      "False\n",
      "[[datetime.date(2020, 1, 3), datetime.date(2020, 1, 6)], [datetime.date(2020, 1, 6), datetime.date(2020, 1, 9)], [datetime.date(2020, 1, 15), datetime.date(2020, 1, 29)]]\n",
      "\n",
      "\n",
      "[datetime.date(2020, 1, 14), datetime.date(2020, 1, 16)]\n",
      "False\n",
      "[[datetime.date(2020, 1, 3), datetime.date(2020, 1, 6)], [datetime.date(2020, 1, 6), datetime.date(2020, 1, 9)], [datetime.date(2020, 1, 15), datetime.date(2020, 1, 29)]]\n",
      "\n",
      "\n",
      "[datetime.date(2020, 1, 13), datetime.date(2020, 1, 29)]\n",
      "False\n",
      "[[datetime.date(2020, 1, 3), datetime.date(2020, 1, 6)], [datetime.date(2020, 1, 6), datetime.date(2020, 1, 9)], [datetime.date(2020, 1, 15), datetime.date(2020, 1, 29)]]\n",
      "\n",
      "\n",
      "[datetime.date(2020, 1, 11), datetime.date(2020, 1, 22)]\n",
      "False\n",
      "[[datetime.date(2020, 1, 3), datetime.date(2020, 1, 6)], [datetime.date(2020, 1, 6), datetime.date(2020, 1, 9)], [datetime.date(2020, 1, 15), datetime.date(2020, 1, 29)]]\n",
      "\n",
      "\n",
      "[datetime.date(2020, 1, 9), datetime.date(2020, 1, 27)]\n",
      "False\n",
      "[[datetime.date(2020, 1, 3), datetime.date(2020, 1, 6)], [datetime.date(2020, 1, 6), datetime.date(2020, 1, 9)], [datetime.date(2020, 1, 15), datetime.date(2020, 1, 29)]]\n",
      "\n",
      "\n",
      "[datetime.date(2020, 1, 14), datetime.date(2020, 1, 23)]\n",
      "False\n",
      "[[datetime.date(2020, 1, 3), datetime.date(2020, 1, 6)], [datetime.date(2020, 1, 6), datetime.date(2020, 1, 9)], [datetime.date(2020, 1, 15), datetime.date(2020, 1, 29)]]\n",
      "\n",
      "\n",
      "[datetime.date(2020, 1, 6), datetime.date(2020, 1, 8)]\n",
      "False\n",
      "[[datetime.date(2020, 1, 3), datetime.date(2020, 1, 6)], [datetime.date(2020, 1, 6), datetime.date(2020, 1, 9)], [datetime.date(2020, 1, 15), datetime.date(2020, 1, 29)]]\n",
      "\n",
      "\n",
      "[datetime.date(2020, 1, 12), datetime.date(2020, 1, 23)]\n",
      "False\n",
      "[[datetime.date(2020, 1, 3), datetime.date(2020, 1, 6)], [datetime.date(2020, 1, 6), datetime.date(2020, 1, 9)], [datetime.date(2020, 1, 15), datetime.date(2020, 1, 29)]]\n",
      "\n",
      "\n",
      "[datetime.date(2020, 1, 10), datetime.date(2020, 1, 28)]\n",
      "False\n",
      "[[datetime.date(2020, 1, 3), datetime.date(2020, 1, 6)], [datetime.date(2020, 1, 6), datetime.date(2020, 1, 9)], [datetime.date(2020, 1, 15), datetime.date(2020, 1, 29)]]\n",
      "\n",
      "\n",
      "[datetime.date(2020, 1, 7), datetime.date(2020, 1, 31)]\n",
      "False\n",
      "[[datetime.date(2020, 1, 3), datetime.date(2020, 1, 6)], [datetime.date(2020, 1, 6), datetime.date(2020, 1, 9)], [datetime.date(2020, 1, 15), datetime.date(2020, 1, 29)]]\n",
      "\n",
      "\n",
      "[datetime.date(2020, 1, 16), datetime.date(2020, 1, 30)]\n",
      "False\n",
      "[[datetime.date(2020, 1, 3), datetime.date(2020, 1, 6)], [datetime.date(2020, 1, 6), datetime.date(2020, 1, 9)], [datetime.date(2020, 1, 15), datetime.date(2020, 1, 29)]]\n",
      "\n",
      "\n",
      "[datetime.date(2020, 1, 8), datetime.date(2020, 1, 12)]\n",
      "False\n",
      "[[datetime.date(2020, 1, 3), datetime.date(2020, 1, 6)], [datetime.date(2020, 1, 6), datetime.date(2020, 1, 9)], [datetime.date(2020, 1, 15), datetime.date(2020, 1, 29)]]\n",
      "\n",
      "\n",
      "[datetime.date(2020, 1, 19), datetime.date(2020, 1, 20)]\n",
      "False\n",
      "[[datetime.date(2020, 1, 3), datetime.date(2020, 1, 6)], [datetime.date(2020, 1, 6), datetime.date(2020, 1, 9)], [datetime.date(2020, 1, 15), datetime.date(2020, 1, 29)]]\n",
      "\n",
      "\n",
      "[datetime.date(2020, 1, 6), datetime.date(2020, 1, 12)]\n",
      "False\n",
      "[[datetime.date(2020, 1, 3), datetime.date(2020, 1, 6)], [datetime.date(2020, 1, 6), datetime.date(2020, 1, 9)], [datetime.date(2020, 1, 15), datetime.date(2020, 1, 29)]]\n",
      "\n",
      "\n",
      "[datetime.date(2020, 1, 27), datetime.date(2020, 1, 28)]\n",
      "False\n",
      "[[datetime.date(2020, 1, 3), datetime.date(2020, 1, 6)], [datetime.date(2020, 1, 6), datetime.date(2020, 1, 9)], [datetime.date(2020, 1, 15), datetime.date(2020, 1, 29)]]\n",
      "\n",
      "\n",
      "[datetime.date(2020, 1, 4), datetime.date(2020, 1, 27)]\n",
      "False\n",
      "[[datetime.date(2020, 1, 3), datetime.date(2020, 1, 6)], [datetime.date(2020, 1, 6), datetime.date(2020, 1, 9)], [datetime.date(2020, 1, 15), datetime.date(2020, 1, 29)]]\n",
      "\n",
      "\n",
      "[datetime.date(2020, 1, 19), datetime.date(2020, 1, 23)]\n",
      "False\n",
      "[[datetime.date(2020, 1, 3), datetime.date(2020, 1, 6)], [datetime.date(2020, 1, 6), datetime.date(2020, 1, 9)], [datetime.date(2020, 1, 15), datetime.date(2020, 1, 29)]]\n",
      "\n",
      "\n",
      "[datetime.date(2020, 1, 14), datetime.date(2020, 1, 29)]\n",
      "False\n",
      "[[datetime.date(2020, 1, 3), datetime.date(2020, 1, 6)], [datetime.date(2020, 1, 6), datetime.date(2020, 1, 9)], [datetime.date(2020, 1, 15), datetime.date(2020, 1, 29)]]\n",
      "\n",
      "\n",
      "[datetime.date(2020, 1, 22), datetime.date(2020, 1, 24)]\n",
      "False\n",
      "[[datetime.date(2020, 1, 3), datetime.date(2020, 1, 6)], [datetime.date(2020, 1, 6), datetime.date(2020, 1, 9)], [datetime.date(2020, 1, 15), datetime.date(2020, 1, 29)]]\n",
      "\n",
      "\n",
      "[datetime.date(2020, 1, 23), datetime.date(2020, 1, 31)]\n",
      "False\n",
      "[[datetime.date(2020, 1, 3), datetime.date(2020, 1, 6)], [datetime.date(2020, 1, 6), datetime.date(2020, 1, 9)], [datetime.date(2020, 1, 15), datetime.date(2020, 1, 29)]]\n",
      "\n",
      "\n",
      "[datetime.date(2020, 1, 20), datetime.date(2020, 1, 22)]\n",
      "False\n",
      "[[datetime.date(2020, 1, 3), datetime.date(2020, 1, 6)], [datetime.date(2020, 1, 6), datetime.date(2020, 1, 9)], [datetime.date(2020, 1, 15), datetime.date(2020, 1, 29)]]\n",
      "\n",
      "\n",
      "[datetime.date(2020, 1, 5), datetime.date(2020, 1, 14)]\n",
      "False\n",
      "[[datetime.date(2020, 1, 3), datetime.date(2020, 1, 6)], [datetime.date(2020, 1, 6), datetime.date(2020, 1, 9)], [datetime.date(2020, 1, 15), datetime.date(2020, 1, 29)]]\n",
      "\n",
      "\n",
      "[datetime.date(2020, 1, 10), datetime.date(2020, 1, 27)]\n",
      "False\n",
      "[[datetime.date(2020, 1, 3), datetime.date(2020, 1, 6)], [datetime.date(2020, 1, 6), datetime.date(2020, 1, 9)], [datetime.date(2020, 1, 15), datetime.date(2020, 1, 29)]]\n",
      "\n",
      "\n",
      "[datetime.date(2020, 1, 5), datetime.date(2020, 1, 28)]\n",
      "False\n",
      "[[datetime.date(2020, 1, 3), datetime.date(2020, 1, 6)], [datetime.date(2020, 1, 6), datetime.date(2020, 1, 9)], [datetime.date(2020, 1, 15), datetime.date(2020, 1, 29)]]\n",
      "\n",
      "\n",
      "[datetime.date(2020, 1, 15), datetime.date(2020, 1, 23)]\n",
      "False\n",
      "[[datetime.date(2020, 1, 3), datetime.date(2020, 1, 6)], [datetime.date(2020, 1, 6), datetime.date(2020, 1, 9)], [datetime.date(2020, 1, 15), datetime.date(2020, 1, 29)]]\n",
      "\n",
      "\n",
      "[datetime.date(2020, 1, 5), datetime.date(2020, 1, 27)]\n",
      "False\n",
      "[[datetime.date(2020, 1, 3), datetime.date(2020, 1, 6)], [datetime.date(2020, 1, 6), datetime.date(2020, 1, 9)], [datetime.date(2020, 1, 15), datetime.date(2020, 1, 29)]]\n",
      "\n",
      "\n",
      "[datetime.date(2020, 1, 26), datetime.date(2020, 1, 29)]\n",
      "False\n",
      "[[datetime.date(2020, 1, 3), datetime.date(2020, 1, 6)], [datetime.date(2020, 1, 6), datetime.date(2020, 1, 9)], [datetime.date(2020, 1, 15), datetime.date(2020, 1, 29)]]\n",
      "\n",
      "\n",
      "[datetime.date(2020, 1, 10), datetime.date(2020, 1, 29)]\n",
      "False\n",
      "[[datetime.date(2020, 1, 3), datetime.date(2020, 1, 6)], [datetime.date(2020, 1, 6), datetime.date(2020, 1, 9)], [datetime.date(2020, 1, 15), datetime.date(2020, 1, 29)]]\n",
      "\n",
      "\n",
      "[datetime.date(2020, 1, 15), datetime.date(2020, 1, 26)]\n",
      "False\n",
      "[[datetime.date(2020, 1, 3), datetime.date(2020, 1, 6)], [datetime.date(2020, 1, 6), datetime.date(2020, 1, 9)], [datetime.date(2020, 1, 15), datetime.date(2020, 1, 29)]]\n",
      "\n",
      "\n",
      "[datetime.date(2020, 1, 8), datetime.date(2020, 1, 15)]\n",
      "False\n",
      "[[datetime.date(2020, 1, 3), datetime.date(2020, 1, 6)], [datetime.date(2020, 1, 6), datetime.date(2020, 1, 9)], [datetime.date(2020, 1, 15), datetime.date(2020, 1, 29)]]\n",
      "\n",
      "\n",
      "[datetime.date(2020, 1, 1), datetime.date(2020, 1, 28)]\n",
      "False\n",
      "[[datetime.date(2020, 1, 3), datetime.date(2020, 1, 6)], [datetime.date(2020, 1, 6), datetime.date(2020, 1, 9)], [datetime.date(2020, 1, 15), datetime.date(2020, 1, 29)]]\n",
      "\n",
      "\n",
      "[datetime.date(2020, 1, 20), datetime.date(2020, 1, 28)]\n",
      "False\n",
      "[[datetime.date(2020, 1, 3), datetime.date(2020, 1, 6)], [datetime.date(2020, 1, 6), datetime.date(2020, 1, 9)], [datetime.date(2020, 1, 15), datetime.date(2020, 1, 29)]]\n",
      "\n",
      "\n",
      "[datetime.date(2020, 1, 8), datetime.date(2020, 1, 13)]\n",
      "False\n",
      "[[datetime.date(2020, 1, 3), datetime.date(2020, 1, 6)], [datetime.date(2020, 1, 6), datetime.date(2020, 1, 9)], [datetime.date(2020, 1, 15), datetime.date(2020, 1, 29)]]\n",
      "\n",
      "\n",
      "True\n",
      "[[datetime.date(2020, 1, 3), datetime.date(2020, 1, 6)], [datetime.date(2020, 1, 6), datetime.date(2020, 1, 9)], [datetime.date(2020, 1, 9), datetime.date(2020, 1, 10)], [datetime.date(2020, 1, 15), datetime.date(2020, 1, 29)]]\n",
      "\n",
      "\n",
      "[datetime.date(2020, 1, 20), datetime.date(2020, 1, 29)]\n",
      "False\n",
      "[[datetime.date(2020, 1, 3), datetime.date(2020, 1, 6)], [datetime.date(2020, 1, 6), datetime.date(2020, 1, 9)], [datetime.date(2020, 1, 9), datetime.date(2020, 1, 10)], [datetime.date(2020, 1, 15), datetime.date(2020, 1, 29)]]\n",
      "\n",
      "\n",
      "[datetime.date(2020, 1, 1), datetime.date(2020, 1, 6)]\n",
      "False\n",
      "[[datetime.date(2020, 1, 3), datetime.date(2020, 1, 6)], [datetime.date(2020, 1, 6), datetime.date(2020, 1, 9)], [datetime.date(2020, 1, 9), datetime.date(2020, 1, 10)], [datetime.date(2020, 1, 15), datetime.date(2020, 1, 29)]]\n",
      "\n",
      "\n",
      "[datetime.date(2020, 1, 21), datetime.date(2020, 1, 25)]\n",
      "False\n",
      "[[datetime.date(2020, 1, 3), datetime.date(2020, 1, 6)], [datetime.date(2020, 1, 6), datetime.date(2020, 1, 9)], [datetime.date(2020, 1, 9), datetime.date(2020, 1, 10)], [datetime.date(2020, 1, 15), datetime.date(2020, 1, 29)]]\n",
      "\n",
      "\n",
      "[datetime.date(2020, 1, 18), datetime.date(2020, 1, 27)]\n",
      "False\n",
      "[[datetime.date(2020, 1, 3), datetime.date(2020, 1, 6)], [datetime.date(2020, 1, 6), datetime.date(2020, 1, 9)], [datetime.date(2020, 1, 9), datetime.date(2020, 1, 10)], [datetime.date(2020, 1, 15), datetime.date(2020, 1, 29)]]\n",
      "\n",
      "\n",
      "[datetime.date(2020, 1, 17), datetime.date(2020, 1, 28)]\n",
      "False\n",
      "[[datetime.date(2020, 1, 3), datetime.date(2020, 1, 6)], [datetime.date(2020, 1, 6), datetime.date(2020, 1, 9)], [datetime.date(2020, 1, 9), datetime.date(2020, 1, 10)], [datetime.date(2020, 1, 15), datetime.date(2020, 1, 29)]]\n",
      "\n",
      "\n",
      "[datetime.date(2020, 1, 17), datetime.date(2020, 1, 28)]\n",
      "False\n",
      "[[datetime.date(2020, 1, 3), datetime.date(2020, 1, 6)], [datetime.date(2020, 1, 6), datetime.date(2020, 1, 9)], [datetime.date(2020, 1, 9), datetime.date(2020, 1, 10)], [datetime.date(2020, 1, 15), datetime.date(2020, 1, 29)]]\n",
      "\n",
      "\n",
      "[datetime.date(2020, 1, 9), datetime.date(2020, 1, 20)]\n",
      "False\n",
      "[[datetime.date(2020, 1, 3), datetime.date(2020, 1, 6)], [datetime.date(2020, 1, 6), datetime.date(2020, 1, 9)], [datetime.date(2020, 1, 9), datetime.date(2020, 1, 10)], [datetime.date(2020, 1, 15), datetime.date(2020, 1, 29)]]\n",
      "\n",
      "\n",
      "[datetime.date(2020, 1, 6), datetime.date(2020, 1, 24)]\n",
      "False\n",
      "[[datetime.date(2020, 1, 3), datetime.date(2020, 1, 6)], [datetime.date(2020, 1, 6), datetime.date(2020, 1, 9)], [datetime.date(2020, 1, 9), datetime.date(2020, 1, 10)], [datetime.date(2020, 1, 15), datetime.date(2020, 1, 29)]]\n",
      "\n",
      "\n",
      "[datetime.date(2020, 1, 25), datetime.date(2020, 1, 27)]\n",
      "False\n",
      "[[datetime.date(2020, 1, 3), datetime.date(2020, 1, 6)], [datetime.date(2020, 1, 6), datetime.date(2020, 1, 9)], [datetime.date(2020, 1, 9), datetime.date(2020, 1, 10)], [datetime.date(2020, 1, 15), datetime.date(2020, 1, 29)]]\n",
      "\n",
      "\n",
      "[datetime.date(2020, 1, 4), datetime.date(2020, 1, 25)]\n",
      "False\n",
      "[[datetime.date(2020, 1, 3), datetime.date(2020, 1, 6)], [datetime.date(2020, 1, 6), datetime.date(2020, 1, 9)], [datetime.date(2020, 1, 9), datetime.date(2020, 1, 10)], [datetime.date(2020, 1, 15), datetime.date(2020, 1, 29)]]\n",
      "\n",
      "\n",
      "[datetime.date(2020, 1, 26), datetime.date(2020, 1, 29)]\n",
      "False\n",
      "[[datetime.date(2020, 1, 3), datetime.date(2020, 1, 6)], [datetime.date(2020, 1, 6), datetime.date(2020, 1, 9)], [datetime.date(2020, 1, 9), datetime.date(2020, 1, 10)], [datetime.date(2020, 1, 15), datetime.date(2020, 1, 29)]]\n",
      "\n",
      "\n",
      "[datetime.date(2020, 1, 9), datetime.date(2020, 1, 16)]\n",
      "False\n",
      "[[datetime.date(2020, 1, 3), datetime.date(2020, 1, 6)], [datetime.date(2020, 1, 6), datetime.date(2020, 1, 9)], [datetime.date(2020, 1, 9), datetime.date(2020, 1, 10)], [datetime.date(2020, 1, 15), datetime.date(2020, 1, 29)]]\n",
      "\n",
      "\n",
      "[datetime.date(2020, 1, 4), datetime.date(2020, 1, 7)]\n",
      "False\n",
      "[[datetime.date(2020, 1, 3), datetime.date(2020, 1, 6)], [datetime.date(2020, 1, 6), datetime.date(2020, 1, 9)], [datetime.date(2020, 1, 9), datetime.date(2020, 1, 10)], [datetime.date(2020, 1, 15), datetime.date(2020, 1, 29)]]\n",
      "\n",
      "\n",
      "[datetime.date(2020, 1, 5), datetime.date(2020, 1, 13)]\n",
      "False\n",
      "[[datetime.date(2020, 1, 3), datetime.date(2020, 1, 6)], [datetime.date(2020, 1, 6), datetime.date(2020, 1, 9)], [datetime.date(2020, 1, 9), datetime.date(2020, 1, 10)], [datetime.date(2020, 1, 15), datetime.date(2020, 1, 29)]]\n",
      "\n",
      "\n",
      "[datetime.date(2020, 1, 6), datetime.date(2020, 1, 9)]\n",
      "False\n",
      "[[datetime.date(2020, 1, 3), datetime.date(2020, 1, 6)], [datetime.date(2020, 1, 6), datetime.date(2020, 1, 9)], [datetime.date(2020, 1, 9), datetime.date(2020, 1, 10)], [datetime.date(2020, 1, 15), datetime.date(2020, 1, 29)]]\n",
      "\n",
      "\n",
      "[datetime.date(2020, 1, 6), datetime.date(2020, 1, 9)]\n",
      "False\n",
      "[[datetime.date(2020, 1, 3), datetime.date(2020, 1, 6)], [datetime.date(2020, 1, 6), datetime.date(2020, 1, 9)], [datetime.date(2020, 1, 9), datetime.date(2020, 1, 10)], [datetime.date(2020, 1, 15), datetime.date(2020, 1, 29)]]\n",
      "\n",
      "\n",
      "[datetime.date(2020, 1, 8), datetime.date(2020, 1, 21)]\n",
      "False\n",
      "[[datetime.date(2020, 1, 3), datetime.date(2020, 1, 6)], [datetime.date(2020, 1, 6), datetime.date(2020, 1, 9)], [datetime.date(2020, 1, 9), datetime.date(2020, 1, 10)], [datetime.date(2020, 1, 15), datetime.date(2020, 1, 29)]]\n",
      "\n",
      "\n",
      "[datetime.date(2020, 1, 5), datetime.date(2020, 1, 15)]\n",
      "False\n",
      "[[datetime.date(2020, 1, 3), datetime.date(2020, 1, 6)], [datetime.date(2020, 1, 6), datetime.date(2020, 1, 9)], [datetime.date(2020, 1, 9), datetime.date(2020, 1, 10)], [datetime.date(2020, 1, 15), datetime.date(2020, 1, 29)]]\n",
      "\n",
      "\n",
      "True\n",
      "[[datetime.date(2020, 1, 3), datetime.date(2020, 1, 6)], [datetime.date(2020, 1, 6), datetime.date(2020, 1, 9)], [datetime.date(2020, 1, 9), datetime.date(2020, 1, 10)], [datetime.date(2020, 1, 14), datetime.date(2020, 1, 15)], [datetime.date(2020, 1, 15), datetime.date(2020, 1, 29)]]\n",
      "\n",
      "\n",
      "[datetime.date(2020, 1, 27), datetime.date(2020, 1, 31)]\n",
      "False\n",
      "[[datetime.date(2020, 1, 3), datetime.date(2020, 1, 6)], [datetime.date(2020, 1, 6), datetime.date(2020, 1, 9)], [datetime.date(2020, 1, 9), datetime.date(2020, 1, 10)], [datetime.date(2020, 1, 14), datetime.date(2020, 1, 15)], [datetime.date(2020, 1, 15), datetime.date(2020, 1, 29)]]\n",
      "\n",
      "\n",
      "[datetime.date(2020, 1, 2), datetime.date(2020, 1, 10)]\n",
      "False\n",
      "[[datetime.date(2020, 1, 3), datetime.date(2020, 1, 6)], [datetime.date(2020, 1, 6), datetime.date(2020, 1, 9)], [datetime.date(2020, 1, 9), datetime.date(2020, 1, 10)], [datetime.date(2020, 1, 14), datetime.date(2020, 1, 15)], [datetime.date(2020, 1, 15), datetime.date(2020, 1, 29)]]\n",
      "\n",
      "\n",
      "[datetime.date(2020, 1, 20), datetime.date(2020, 1, 27)]\n",
      "False\n",
      "[[datetime.date(2020, 1, 3), datetime.date(2020, 1, 6)], [datetime.date(2020, 1, 6), datetime.date(2020, 1, 9)], [datetime.date(2020, 1, 9), datetime.date(2020, 1, 10)], [datetime.date(2020, 1, 14), datetime.date(2020, 1, 15)], [datetime.date(2020, 1, 15), datetime.date(2020, 1, 29)]]\n",
      "\n",
      "\n",
      "[datetime.date(2020, 1, 8), datetime.date(2020, 1, 29)]\n",
      "False\n",
      "[[datetime.date(2020, 1, 3), datetime.date(2020, 1, 6)], [datetime.date(2020, 1, 6), datetime.date(2020, 1, 9)], [datetime.date(2020, 1, 9), datetime.date(2020, 1, 10)], [datetime.date(2020, 1, 14), datetime.date(2020, 1, 15)], [datetime.date(2020, 1, 15), datetime.date(2020, 1, 29)]]\n",
      "\n",
      "\n",
      "[datetime.date(2020, 1, 9), datetime.date(2020, 1, 21)]\n",
      "False\n",
      "[[datetime.date(2020, 1, 3), datetime.date(2020, 1, 6)], [datetime.date(2020, 1, 6), datetime.date(2020, 1, 9)], [datetime.date(2020, 1, 9), datetime.date(2020, 1, 10)], [datetime.date(2020, 1, 14), datetime.date(2020, 1, 15)], [datetime.date(2020, 1, 15), datetime.date(2020, 1, 29)]]\n",
      "\n",
      "\n",
      "[datetime.date(2020, 1, 8), datetime.date(2020, 1, 24)]\n",
      "False\n",
      "[[datetime.date(2020, 1, 3), datetime.date(2020, 1, 6)], [datetime.date(2020, 1, 6), datetime.date(2020, 1, 9)], [datetime.date(2020, 1, 9), datetime.date(2020, 1, 10)], [datetime.date(2020, 1, 14), datetime.date(2020, 1, 15)], [datetime.date(2020, 1, 15), datetime.date(2020, 1, 29)]]\n",
      "\n",
      "\n",
      "[datetime.date(2020, 1, 4), datetime.date(2020, 1, 9)]\n",
      "False\n",
      "[[datetime.date(2020, 1, 3), datetime.date(2020, 1, 6)], [datetime.date(2020, 1, 6), datetime.date(2020, 1, 9)], [datetime.date(2020, 1, 9), datetime.date(2020, 1, 10)], [datetime.date(2020, 1, 14), datetime.date(2020, 1, 15)], [datetime.date(2020, 1, 15), datetime.date(2020, 1, 29)]]\n",
      "\n",
      "\n",
      "[datetime.date(2020, 1, 7), datetime.date(2020, 1, 24)]\n",
      "False\n",
      "[[datetime.date(2020, 1, 3), datetime.date(2020, 1, 6)], [datetime.date(2020, 1, 6), datetime.date(2020, 1, 9)], [datetime.date(2020, 1, 9), datetime.date(2020, 1, 10)], [datetime.date(2020, 1, 14), datetime.date(2020, 1, 15)], [datetime.date(2020, 1, 15), datetime.date(2020, 1, 29)]]\n",
      "\n",
      "\n",
      "[datetime.date(2020, 1, 18), datetime.date(2020, 1, 24)]\n",
      "False\n",
      "[[datetime.date(2020, 1, 3), datetime.date(2020, 1, 6)], [datetime.date(2020, 1, 6), datetime.date(2020, 1, 9)], [datetime.date(2020, 1, 9), datetime.date(2020, 1, 10)], [datetime.date(2020, 1, 14), datetime.date(2020, 1, 15)], [datetime.date(2020, 1, 15), datetime.date(2020, 1, 29)]]\n",
      "\n",
      "\n",
      "[datetime.date(2020, 1, 5), datetime.date(2020, 1, 10)]\n",
      "False\n",
      "[[datetime.date(2020, 1, 3), datetime.date(2020, 1, 6)], [datetime.date(2020, 1, 6), datetime.date(2020, 1, 9)], [datetime.date(2020, 1, 9), datetime.date(2020, 1, 10)], [datetime.date(2020, 1, 14), datetime.date(2020, 1, 15)], [datetime.date(2020, 1, 15), datetime.date(2020, 1, 29)]]\n",
      "\n",
      "\n",
      "[datetime.date(2020, 1, 25), datetime.date(2020, 1, 31)]\n",
      "False\n",
      "[[datetime.date(2020, 1, 3), datetime.date(2020, 1, 6)], [datetime.date(2020, 1, 6), datetime.date(2020, 1, 9)], [datetime.date(2020, 1, 9), datetime.date(2020, 1, 10)], [datetime.date(2020, 1, 14), datetime.date(2020, 1, 15)], [datetime.date(2020, 1, 15), datetime.date(2020, 1, 29)]]\n",
      "\n",
      "\n",
      "[datetime.date(2020, 1, 16), datetime.date(2020, 1, 28)]\n",
      "False\n",
      "[[datetime.date(2020, 1, 3), datetime.date(2020, 1, 6)], [datetime.date(2020, 1, 6), datetime.date(2020, 1, 9)], [datetime.date(2020, 1, 9), datetime.date(2020, 1, 10)], [datetime.date(2020, 1, 14), datetime.date(2020, 1, 15)], [datetime.date(2020, 1, 15), datetime.date(2020, 1, 29)]]\n",
      "\n",
      "\n",
      "[datetime.date(2020, 1, 5), datetime.date(2020, 1, 24)]\n",
      "False\n",
      "[[datetime.date(2020, 1, 3), datetime.date(2020, 1, 6)], [datetime.date(2020, 1, 6), datetime.date(2020, 1, 9)], [datetime.date(2020, 1, 9), datetime.date(2020, 1, 10)], [datetime.date(2020, 1, 14), datetime.date(2020, 1, 15)], [datetime.date(2020, 1, 15), datetime.date(2020, 1, 29)]]\n",
      "\n",
      "\n",
      "[datetime.date(2020, 1, 11), datetime.date(2020, 1, 22)]\n",
      "False\n",
      "[[datetime.date(2020, 1, 3), datetime.date(2020, 1, 6)], [datetime.date(2020, 1, 6), datetime.date(2020, 1, 9)], [datetime.date(2020, 1, 9), datetime.date(2020, 1, 10)], [datetime.date(2020, 1, 14), datetime.date(2020, 1, 15)], [datetime.date(2020, 1, 15), datetime.date(2020, 1, 29)]]\n",
      "\n",
      "\n",
      "[datetime.date(2020, 1, 3), datetime.date(2020, 1, 27)]\n",
      "False\n",
      "[[datetime.date(2020, 1, 3), datetime.date(2020, 1, 6)], [datetime.date(2020, 1, 6), datetime.date(2020, 1, 9)], [datetime.date(2020, 1, 9), datetime.date(2020, 1, 10)], [datetime.date(2020, 1, 14), datetime.date(2020, 1, 15)], [datetime.date(2020, 1, 15), datetime.date(2020, 1, 29)]]\n",
      "\n",
      "\n",
      "[datetime.date(2020, 1, 11), datetime.date(2020, 1, 15)]\n",
      "False\n",
      "[[datetime.date(2020, 1, 3), datetime.date(2020, 1, 6)], [datetime.date(2020, 1, 6), datetime.date(2020, 1, 9)], [datetime.date(2020, 1, 9), datetime.date(2020, 1, 10)], [datetime.date(2020, 1, 14), datetime.date(2020, 1, 15)], [datetime.date(2020, 1, 15), datetime.date(2020, 1, 29)]]\n",
      "\n",
      "\n",
      "[datetime.date(2020, 1, 14), datetime.date(2020, 1, 31)]\n",
      "False\n",
      "[[datetime.date(2020, 1, 3), datetime.date(2020, 1, 6)], [datetime.date(2020, 1, 6), datetime.date(2020, 1, 9)], [datetime.date(2020, 1, 9), datetime.date(2020, 1, 10)], [datetime.date(2020, 1, 14), datetime.date(2020, 1, 15)], [datetime.date(2020, 1, 15), datetime.date(2020, 1, 29)]]\n",
      "\n",
      "\n",
      "[datetime.date(2020, 1, 22), datetime.date(2020, 1, 30)]\n",
      "False\n",
      "[[datetime.date(2020, 1, 3), datetime.date(2020, 1, 6)], [datetime.date(2020, 1, 6), datetime.date(2020, 1, 9)], [datetime.date(2020, 1, 9), datetime.date(2020, 1, 10)], [datetime.date(2020, 1, 14), datetime.date(2020, 1, 15)], [datetime.date(2020, 1, 15), datetime.date(2020, 1, 29)]]\n",
      "\n",
      "\n",
      "[datetime.date(2020, 1, 14), datetime.date(2020, 1, 17)]\n",
      "False\n",
      "[[datetime.date(2020, 1, 3), datetime.date(2020, 1, 6)], [datetime.date(2020, 1, 6), datetime.date(2020, 1, 9)], [datetime.date(2020, 1, 9), datetime.date(2020, 1, 10)], [datetime.date(2020, 1, 14), datetime.date(2020, 1, 15)], [datetime.date(2020, 1, 15), datetime.date(2020, 1, 29)]]\n",
      "\n",
      "\n",
      "[datetime.date(2020, 1, 7), datetime.date(2020, 1, 24)]\n",
      "False\n",
      "[[datetime.date(2020, 1, 3), datetime.date(2020, 1, 6)], [datetime.date(2020, 1, 6), datetime.date(2020, 1, 9)], [datetime.date(2020, 1, 9), datetime.date(2020, 1, 10)], [datetime.date(2020, 1, 14), datetime.date(2020, 1, 15)], [datetime.date(2020, 1, 15), datetime.date(2020, 1, 29)]]\n",
      "\n",
      "\n",
      "[datetime.date(2020, 1, 21), datetime.date(2020, 1, 27)]\n",
      "False\n",
      "[[datetime.date(2020, 1, 3), datetime.date(2020, 1, 6)], [datetime.date(2020, 1, 6), datetime.date(2020, 1, 9)], [datetime.date(2020, 1, 9), datetime.date(2020, 1, 10)], [datetime.date(2020, 1, 14), datetime.date(2020, 1, 15)], [datetime.date(2020, 1, 15), datetime.date(2020, 1, 29)]]\n",
      "\n",
      "\n",
      "[datetime.date(2020, 1, 8), datetime.date(2020, 1, 25)]\n",
      "False\n",
      "[[datetime.date(2020, 1, 3), datetime.date(2020, 1, 6)], [datetime.date(2020, 1, 6), datetime.date(2020, 1, 9)], [datetime.date(2020, 1, 9), datetime.date(2020, 1, 10)], [datetime.date(2020, 1, 14), datetime.date(2020, 1, 15)], [datetime.date(2020, 1, 15), datetime.date(2020, 1, 29)]]\n",
      "\n",
      "\n",
      "[datetime.date(2020, 1, 18), datetime.date(2020, 1, 27)]\n",
      "False\n",
      "[[datetime.date(2020, 1, 3), datetime.date(2020, 1, 6)], [datetime.date(2020, 1, 6), datetime.date(2020, 1, 9)], [datetime.date(2020, 1, 9), datetime.date(2020, 1, 10)], [datetime.date(2020, 1, 14), datetime.date(2020, 1, 15)], [datetime.date(2020, 1, 15), datetime.date(2020, 1, 29)]]\n",
      "\n",
      "\n",
      "[datetime.date(2020, 1, 18), datetime.date(2020, 1, 22)]\n",
      "False\n",
      "[[datetime.date(2020, 1, 3), datetime.date(2020, 1, 6)], [datetime.date(2020, 1, 6), datetime.date(2020, 1, 9)], [datetime.date(2020, 1, 9), datetime.date(2020, 1, 10)], [datetime.date(2020, 1, 14), datetime.date(2020, 1, 15)], [datetime.date(2020, 1, 15), datetime.date(2020, 1, 29)]]\n",
      "\n",
      "\n",
      "[datetime.date(2020, 1, 11), datetime.date(2020, 1, 29)]\n",
      "False\n",
      "[[datetime.date(2020, 1, 3), datetime.date(2020, 1, 6)], [datetime.date(2020, 1, 6), datetime.date(2020, 1, 9)], [datetime.date(2020, 1, 9), datetime.date(2020, 1, 10)], [datetime.date(2020, 1, 14), datetime.date(2020, 1, 15)], [datetime.date(2020, 1, 15), datetime.date(2020, 1, 29)]]\n",
      "\n",
      "\n",
      "[datetime.date(2020, 1, 10), datetime.date(2020, 1, 23)]\n",
      "False\n",
      "[[datetime.date(2020, 1, 3), datetime.date(2020, 1, 6)], [datetime.date(2020, 1, 6), datetime.date(2020, 1, 9)], [datetime.date(2020, 1, 9), datetime.date(2020, 1, 10)], [datetime.date(2020, 1, 14), datetime.date(2020, 1, 15)], [datetime.date(2020, 1, 15), datetime.date(2020, 1, 29)]]\n",
      "\n",
      "\n",
      "[datetime.date(2020, 1, 12), datetime.date(2020, 1, 22)]\n",
      "False\n",
      "[[datetime.date(2020, 1, 3), datetime.date(2020, 1, 6)], [datetime.date(2020, 1, 6), datetime.date(2020, 1, 9)], [datetime.date(2020, 1, 9), datetime.date(2020, 1, 10)], [datetime.date(2020, 1, 14), datetime.date(2020, 1, 15)], [datetime.date(2020, 1, 15), datetime.date(2020, 1, 29)]]\n",
      "\n",
      "\n",
      "[datetime.date(2020, 1, 11), datetime.date(2020, 1, 30)]\n",
      "False\n",
      "[[datetime.date(2020, 1, 3), datetime.date(2020, 1, 6)], [datetime.date(2020, 1, 6), datetime.date(2020, 1, 9)], [datetime.date(2020, 1, 9), datetime.date(2020, 1, 10)], [datetime.date(2020, 1, 14), datetime.date(2020, 1, 15)], [datetime.date(2020, 1, 15), datetime.date(2020, 1, 29)]]\n",
      "\n",
      "\n",
      "True\n",
      "[[datetime.date(2020, 1, 1), datetime.date(2020, 1, 3)], [datetime.date(2020, 1, 3), datetime.date(2020, 1, 6)], [datetime.date(2020, 1, 6), datetime.date(2020, 1, 9)], [datetime.date(2020, 1, 9), datetime.date(2020, 1, 10)], [datetime.date(2020, 1, 14), datetime.date(2020, 1, 15)], [datetime.date(2020, 1, 15), datetime.date(2020, 1, 29)]]\n",
      "\n",
      "\n",
      "[datetime.date(2020, 1, 18), datetime.date(2020, 1, 30)]\n",
      "False\n",
      "[[datetime.date(2020, 1, 1), datetime.date(2020, 1, 3)], [datetime.date(2020, 1, 3), datetime.date(2020, 1, 6)], [datetime.date(2020, 1, 6), datetime.date(2020, 1, 9)], [datetime.date(2020, 1, 9), datetime.date(2020, 1, 10)], [datetime.date(2020, 1, 14), datetime.date(2020, 1, 15)], [datetime.date(2020, 1, 15), datetime.date(2020, 1, 29)]]\n",
      "\n",
      "\n",
      "[datetime.date(2020, 1, 19), datetime.date(2020, 1, 23)]\n",
      "False\n",
      "[[datetime.date(2020, 1, 1), datetime.date(2020, 1, 3)], [datetime.date(2020, 1, 3), datetime.date(2020, 1, 6)], [datetime.date(2020, 1, 6), datetime.date(2020, 1, 9)], [datetime.date(2020, 1, 9), datetime.date(2020, 1, 10)], [datetime.date(2020, 1, 14), datetime.date(2020, 1, 15)], [datetime.date(2020, 1, 15), datetime.date(2020, 1, 29)]]\n",
      "\n",
      "\n",
      "[datetime.date(2020, 1, 9), datetime.date(2020, 1, 20)]\n",
      "False\n",
      "[[datetime.date(2020, 1, 1), datetime.date(2020, 1, 3)], [datetime.date(2020, 1, 3), datetime.date(2020, 1, 6)], [datetime.date(2020, 1, 6), datetime.date(2020, 1, 9)], [datetime.date(2020, 1, 9), datetime.date(2020, 1, 10)], [datetime.date(2020, 1, 14), datetime.date(2020, 1, 15)], [datetime.date(2020, 1, 15), datetime.date(2020, 1, 29)]]\n",
      "\n",
      "\n",
      "[datetime.date(2020, 1, 1), datetime.date(2020, 1, 4)]\n",
      "False\n",
      "[[datetime.date(2020, 1, 1), datetime.date(2020, 1, 3)], [datetime.date(2020, 1, 3), datetime.date(2020, 1, 6)], [datetime.date(2020, 1, 6), datetime.date(2020, 1, 9)], [datetime.date(2020, 1, 9), datetime.date(2020, 1, 10)], [datetime.date(2020, 1, 14), datetime.date(2020, 1, 15)], [datetime.date(2020, 1, 15), datetime.date(2020, 1, 29)]]\n",
      "\n",
      "\n",
      "[datetime.date(2020, 1, 18), datetime.date(2020, 1, 27)]\n",
      "False\n",
      "[[datetime.date(2020, 1, 1), datetime.date(2020, 1, 3)], [datetime.date(2020, 1, 3), datetime.date(2020, 1, 6)], [datetime.date(2020, 1, 6), datetime.date(2020, 1, 9)], [datetime.date(2020, 1, 9), datetime.date(2020, 1, 10)], [datetime.date(2020, 1, 14), datetime.date(2020, 1, 15)], [datetime.date(2020, 1, 15), datetime.date(2020, 1, 29)]]\n",
      "\n",
      "\n",
      "[datetime.date(2020, 1, 27), datetime.date(2020, 1, 31)]\n",
      "False\n",
      "[[datetime.date(2020, 1, 1), datetime.date(2020, 1, 3)], [datetime.date(2020, 1, 3), datetime.date(2020, 1, 6)], [datetime.date(2020, 1, 6), datetime.date(2020, 1, 9)], [datetime.date(2020, 1, 9), datetime.date(2020, 1, 10)], [datetime.date(2020, 1, 14), datetime.date(2020, 1, 15)], [datetime.date(2020, 1, 15), datetime.date(2020, 1, 29)]]\n",
      "\n",
      "\n",
      "[datetime.date(2020, 1, 3), datetime.date(2020, 1, 9)]\n",
      "False\n",
      "[[datetime.date(2020, 1, 1), datetime.date(2020, 1, 3)], [datetime.date(2020, 1, 3), datetime.date(2020, 1, 6)], [datetime.date(2020, 1, 6), datetime.date(2020, 1, 9)], [datetime.date(2020, 1, 9), datetime.date(2020, 1, 10)], [datetime.date(2020, 1, 14), datetime.date(2020, 1, 15)], [datetime.date(2020, 1, 15), datetime.date(2020, 1, 29)]]\n",
      "\n",
      "\n",
      "[datetime.date(2020, 1, 2), datetime.date(2020, 1, 8)]\n",
      "False\n",
      "[[datetime.date(2020, 1, 1), datetime.date(2020, 1, 3)], [datetime.date(2020, 1, 3), datetime.date(2020, 1, 6)], [datetime.date(2020, 1, 6), datetime.date(2020, 1, 9)], [datetime.date(2020, 1, 9), datetime.date(2020, 1, 10)], [datetime.date(2020, 1, 14), datetime.date(2020, 1, 15)], [datetime.date(2020, 1, 15), datetime.date(2020, 1, 29)]]\n",
      "\n",
      "\n",
      "[datetime.date(2020, 1, 1), datetime.date(2020, 1, 20)]\n",
      "False\n",
      "[[datetime.date(2020, 1, 1), datetime.date(2020, 1, 3)], [datetime.date(2020, 1, 3), datetime.date(2020, 1, 6)], [datetime.date(2020, 1, 6), datetime.date(2020, 1, 9)], [datetime.date(2020, 1, 9), datetime.date(2020, 1, 10)], [datetime.date(2020, 1, 14), datetime.date(2020, 1, 15)], [datetime.date(2020, 1, 15), datetime.date(2020, 1, 29)]]\n",
      "\n",
      "\n",
      "[datetime.date(2020, 1, 3), datetime.date(2020, 1, 4)]\n",
      "False\n",
      "[[datetime.date(2020, 1, 1), datetime.date(2020, 1, 3)], [datetime.date(2020, 1, 3), datetime.date(2020, 1, 6)], [datetime.date(2020, 1, 6), datetime.date(2020, 1, 9)], [datetime.date(2020, 1, 9), datetime.date(2020, 1, 10)], [datetime.date(2020, 1, 14), datetime.date(2020, 1, 15)], [datetime.date(2020, 1, 15), datetime.date(2020, 1, 29)]]\n",
      "\n",
      "\n",
      "[datetime.date(2020, 1, 16), datetime.date(2020, 1, 20)]\n",
      "False\n",
      "[[datetime.date(2020, 1, 1), datetime.date(2020, 1, 3)], [datetime.date(2020, 1, 3), datetime.date(2020, 1, 6)], [datetime.date(2020, 1, 6), datetime.date(2020, 1, 9)], [datetime.date(2020, 1, 9), datetime.date(2020, 1, 10)], [datetime.date(2020, 1, 14), datetime.date(2020, 1, 15)], [datetime.date(2020, 1, 15), datetime.date(2020, 1, 29)]]\n",
      "\n",
      "\n"
     ]
    }
   ],
   "source": [
    "def create_res():\n",
    "    start = date_generator()\n",
    "    end = date_generator()\n",
    "    while end <= start: #cannot have intervals like [10, 10]... could create overlapping reservations\n",
    "        start = date_generator()\n",
    "        end = date_generator()\n",
    "        \n",
    "    return [start, end]\n",
    "\n",
    "cal = []\n",
    "for j in range(100):\n",
    "    print(scheduler(cal, create_res()))\n",
    "    print(cal)\n",
    "    print(\"\\n\")"
   ]
  },
  {
   "cell_type": "code",
   "execution_count": 114,
   "metadata": {},
   "outputs": [
    {
     "name": "stdout",
     "output_type": "stream",
     "text": [
      "[54, 190]\n",
      "False\n"
     ]
    }
   ],
   "source": [
    "print(scheduler(cal, create_res()))"
   ]
  },
  {
   "cell_type": "code",
   "execution_count": 115,
   "metadata": {},
   "outputs": [],
   "source": [
    "def check_availability(calendar, current_date):\n",
    "    if len(calendar) == 0:\n",
    "        return True\n",
    "    for reservation in calendar:\n",
    "        if reservation[0] <= current_date and reservation[1] >= current_date:\n",
    "            return False\n",
    "    return True"
   ]
  },
  {
   "cell_type": "code",
   "execution_count": 118,
   "metadata": {},
   "outputs": [
    {
     "name": "stdout",
     "output_type": "stream",
     "text": [
      "This item is available:  True\n"
     ]
    }
   ],
   "source": [
    "print(\"This item is available: \", check_availability(cal,313))"
   ]
  },
  {
   "cell_type": "code",
   "execution_count": 119,
   "metadata": {},
   "outputs": [],
   "source": [
    "def next_availability(calendar):\n",
    "    if len(calendar) == 0:\n",
    "        return \"today\"\n",
    "    for i in range(len(calendar)):\n",
    "        if i + 1 < len(calendar):\n",
    "            if calendar[i][1] < calendar[i + 1][0]:\n",
    "                return [calendar[i][1], calendar[i + 1][0]]\n",
    "        else:\n",
    "            return [calendar[i][1], 9999]\n"
   ]
  },
  {
   "cell_type": "code",
   "execution_count": 120,
   "metadata": {},
   "outputs": [
    {
     "name": "stdout",
     "output_type": "stream",
     "text": [
      "The next available rental period is:  [16, 25]\n"
     ]
    }
   ],
   "source": [
    "\n",
    "print(\"The next available rental period is: \", next_availability(cal))\n"
   ]
  },
  {
   "cell_type": "code",
   "execution_count": 124,
   "metadata": {},
   "outputs": [],
   "source": [
    "def calendar_refresh(calendar, current_date):\n",
    "    if len(calendar) == 0:\n",
    "        return calendar\n",
    "    for res in calendar:\n",
    "        if res[1] <= current_date:\n",
    "            calendar.remove(res)\n",
    "            calendar_refresh(calendar, current_date)\n",
    "        else:\n",
    "            return calendar\n",
    "    return calendar"
   ]
  },
  {
   "cell_type": "code",
   "execution_count": 127,
   "metadata": {},
   "outputs": [
    {
     "name": "stdout",
     "output_type": "stream",
     "text": [
      "Your refreshed calendar is:  []\n"
     ]
    }
   ],
   "source": [
    "print(\"Your refreshed calendar is: \", calendar_refresh(cal, 491))"
   ]
  },
  {
   "cell_type": "code",
   "execution_count": 156,
   "metadata": {},
   "outputs": [],
   "source": [
    "def checkout(cart):\n",
    "    total_price = 0\n",
    "    for item in cart:\n",
    "        discount = 1\n",
    "        if item[0] > 90: discount = 0.25\n",
    "        elif item[0] > 30: discount = 0.50\n",
    "        elif item[0] > 14: discount = 0.95\n",
    "        \n",
    "        total_price += item[0] * item[1] * discount\n",
    "        \n",
    "    return total_price"
   ]
  },
  {
   "cell_type": "code",
   "execution_count": 160,
   "metadata": {},
   "outputs": [
    {
     "name": "stdout",
     "output_type": "stream",
     "text": [
      "77.5\n"
     ]
    }
   ],
   "source": [
    "print(checkout([[31, 5]]))"
   ]
  },
  {
   "cell_type": "code",
   "execution_count": null,
   "metadata": {},
   "outputs": [],
   "source": []
  }
 ],
 "metadata": {
  "kernelspec": {
   "display_name": "Python 3",
   "language": "python",
   "name": "python3"
  },
  "language_info": {
   "codemirror_mode": {
    "name": "ipython",
    "version": 3
   },
   "file_extension": ".py",
   "mimetype": "text/x-python",
   "name": "python",
   "nbconvert_exporter": "python",
   "pygments_lexer": "ipython3",
   "version": "3.7.6"
  }
 },
 "nbformat": 4,
 "nbformat_minor": 4
}
