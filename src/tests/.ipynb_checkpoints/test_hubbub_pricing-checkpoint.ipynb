{
 "cells": [
  {
   "cell_type": "markdown",
   "metadata": {},
   "source": [
    "# Hubbub Pricing Calculator"
   ]
  },
  {
   "cell_type": "markdown",
   "metadata": {},
   "source": [
    "Run all of the code cells in the order they appear. Feel free to play around with it, but be conscious of what you change because the function might not work if you change too many values. Enjoy! -Ade"
   ]
  },
  {
   "cell_type": "code",
   "execution_count": 2,
   "metadata": {},
   "outputs": [],
   "source": [
    "#imports to make function work--leave as is\n",
    "import numpy as np\n",
    "from math import log, exp\n",
    "from matplotlib import pyplot as plt\n",
    "from datetime import date, datetime, timedelta"
   ]
  },
  {
   "cell_type": "markdown",
   "metadata": {},
   "source": [
    "## Pricing function "
   ]
  },
  {
   "cell_type": "markdown",
   "metadata": {},
   "source": [
    "This is based on exponential decay and this is the one being used in the website. The is another pricing model that is based on the sigmoidal curve. lmk if you want to see that one too (its not in this file).\n",
    "\n",
    "Inputs to the function, defined:\n",
    "* retail_price - the retail value of the item **(units: dollars)**\n",
    "* discount - defines rate of discount with each additional day added to the rental. Ranges from 0.00 (no discount) to 0.99 (essentially full discount) **(units: percentage / 100)**\n",
    "* time_now - the duration of the rental. It is equal to *rental end date* minus *rental start date*. **(units: days)**\n",
    "* time_total - how many days it takes for the cost_to_date to start decaying **(units: days)**\n",
    "\n",
    "Outputs to the function, defined:\n",
    "* cost_to_date - cost to the user for renting for the given duration (returned)\n",
    "* y - the price of renting at the nth day, not the enter duration length, n (not returned)"
   ]
  },
  {
   "cell_type": "code",
   "execution_count": 3,
   "metadata": {},
   "outputs": [],
   "source": [
    "#pricing function\n",
    "def exp_decay(retail_price, discount, time_now, time_total):\n",
    "    \n",
    "    #calculates y = the price of renting at the nth day, not the enter duration length, n\n",
    "    compound = retail_price / 90 #90 is arbitrary, it helped me sort of normalize the retail_price\n",
    "    a = compound * 10 ** (-log((1 - discount), 10) / (time_total - 1))\n",
    "    r = 1 - (compound / a)\n",
    "    y = a * (1 - r) ** time_now #per_day_price_now\n",
    "    \n",
    "    #calculate the cost of the rental to the user\n",
    "    integ_time = (a * (1 - r) ** time_now) / log(1 - r)\n",
    "    integ_0 = a * (1 - r) / log(1 - r)\n",
    "    cost_to_date = integ_time-integ_0\n",
    "    \n",
    "    return cost_to_date"
   ]
  },
  {
   "cell_type": "markdown",
   "metadata": {},
   "source": [
    "## Testing the function"
   ]
  },
  {
   "cell_type": "markdown",
   "metadata": {},
   "source": [
    "Below, I tested the pricing function by generating a list of rental durations (e.g. rented for 1 day, rented for 2 days, ..., rented for *n* days). Then I ran each duration through the pricing function to generate corresponding prices. Finally, I plotted those x and y's on a graph."
   ]
  },
  {
   "cell_type": "code",
   "execution_count": 7,
   "metadata": {},
   "outputs": [],
   "source": [
    "#generate list of durations from 1 day duration to 150 day duration. 150 was picked arbitrarily.\n",
    "x = [value for value in range(1, 151)]"
   ]
  },
  {
   "cell_type": "code",
   "execution_count": 18,
   "metadata": {},
   "outputs": [],
   "source": [
    "#generate list of corresponding prices for those durations. The discount value and time_total are from the website\n",
    "y = [exp_decay(retail_price=200, discount=.50, time_now=duration, time_total=28) for duration in x]"
   ]
  },
  {
   "cell_type": "markdown",
   "metadata": {},
   "source": [
    "Notice that the graph starts to bend at *time_total*. Also observe that as rental duration increases from 1 day to 150 days, the rate of change decreases. Finally, notice that many more points are packed into the tail of the graph than in the beginning--a.k.a. rapid increase in prices at first, then most of the prices crowd around 60.00 to 80.00 dollars."
   ]
  },
  {
   "cell_type": "code",
   "execution_count": 19,
   "metadata": {},
   "outputs": [
    {
     "name": "stderr",
     "output_type": "stream",
     "text": [
      "'c' argument looks like a single numeric RGB or RGBA sequence, which should be avoided as value-mapping will have precedence in case its length matches with 'x' & 'y'.  Please use a 2-D array with a single row if you really want to specify the same RGB or RGBA value for all points.\n"
     ]
    },
    {
     "data": {
      "image/png": "[encoded data removed]",
      "text/plain": [
       "<Figure size 432x288 with 1 Axes>"
      ]
     },
     "metadata": {
      "needs_background": "light"
     },
     "output_type": "display_data"
    }
   ],
   "source": [
    "#create graph of price to duration.\n",
    "\n",
    "colors = (0,0,0)\n",
    "\n",
    "plt.scatter(x, y, c=colors, alpha=0.5)\n",
    "    \n",
    "plt.xlabel('total days rented') #set x axis label\n",
    "plt.ylabel('price charged for rental duration') #set y axis label\n",
    "\n",
    "plt.title('pricing model')\n",
    "\n",
    "plt.show()"
   ]
  },
  {
   "cell_type": "markdown",
   "metadata": {},
   "source": [
    "<hr>"
   ]
  },
  {
   "cell_type": "markdown",
   "metadata": {},
   "source": [
    "# Ignore the stuff below--was just messing around"
   ]
  },
  {
   "cell_type": "code",
   "execution_count": 12,
   "metadata": {},
   "outputs": [],
   "source": [
    "#IGNORE\n",
    "#helper function: generates the multiplier depending on the length of the rental\n",
    "def rental_range_multiplier(max_rental, min_rental):\n",
    "    return float(log((max_rental - min_rental).days/10, 2) + 1)\n",
    "\n",
    "def get_adjusted_price(lister_price, max_rental, min_rental, requested_rental, min_price=1, shift_graph=5):\n",
    "    a = rental_range_multiplier(max_rental, min_rental)\n",
    "    return float((-lister_price)/(1 + exp(shift_graph - a * requested_rental)) + min_price - lister_price)"
   ]
  },
  {
   "cell_type": "code",
   "execution_count": 24,
   "metadata": {},
   "outputs": [],
   "source": [
    "#IGNORE\n",
    "def test_rental_range_multiplier(rental_length):\n",
    "    return float(log(rental_length/10, 2) + 1)\n",
    "\n",
    "def test_get_adjusted_price(requested_rental, lister_price=10, rental_length=100, min_price=1, shift_graph=5):\n",
    "    a = test_rental_range_multiplier(rental_length)\n",
    "    return float((-lister_price)/(1 + exp(shift_graph - a * requested_rental)) + min_price - lister_price)"
   ]
  },
  {
   "cell_type": "code",
   "execution_count": 25,
   "metadata": {},
   "outputs": [],
   "source": [
    "#IGNORE\n",
    "x = [value for value in range(1, 101)]"
   ]
  },
  {
   "cell_type": "code",
   "execution_count": 26,
   "metadata": {},
   "outputs": [
    {
     "name": "stdout",
     "output_type": "stream",
     "text": [
      "[1, 2, 3, 4, 5, 6, 7, 8, 9, 10, 11, 12, 13, 14, 15, 16, 17, 18, 19, 20, 21, 22, 23, 24, 25, 26, 27, 28, 29, 30, 31, 32, 33, 34, 35, 36, 37, 38, 39, 40, 41, 42, 43, 44, 45, 46, 47, 48, 49, 50, 51, 52, 53, 54, 55, 56, 57, 58, 59, 60, 61, 62, 63, 64, 65, 66, 67, 68, 69, 70, 71, 72, 73, 74, 75, 76, 77, 78, 79, 80, 81, 82, 83, 84, 85, 86, 87, 88, 89, 90, 91, 92, 93, 94, 95, 96, 97, 98, 99, 100]\n"
     ]
    }
   ],
   "source": [
    "#IGNORE\n",
    "print(x)"
   ]
  },
  {
   "cell_type": "code",
   "execution_count": 27,
   "metadata": {},
   "outputs": [],
   "source": [
    "#IGNORE\n",
    "y = [test_get_adjusted_price(length) for length in x]"
   ]
  },
  {
   "cell_type": "code",
   "execution_count": 28,
   "metadata": {},
   "outputs": [
    {
     "name": "stdout",
     "output_type": "stream",
     "text": [
      "[-12.366917691640133, -18.745151570153308, -18.99652981117742, -18.999953920016267, -18.99999938831931, -18.999999991880387, -18.999999999892218, -18.999999999998572, -18.99999999999998, -19.0, -19.0, -19.0, -19.0, -19.0, -19.0, -19.0, -19.0, -19.0, -19.0, -19.0, -19.0, -19.0, -19.0, -19.0, -19.0, -19.0, -19.0, -19.0, -19.0, -19.0, -19.0, -19.0, -19.0, -19.0, -19.0, -19.0, -19.0, -19.0, -19.0, -19.0, -19.0, -19.0, -19.0, -19.0, -19.0, -19.0, -19.0, -19.0, -19.0, -19.0, -19.0, -19.0, -19.0, -19.0, -19.0, -19.0, -19.0, -19.0, -19.0, -19.0, -19.0, -19.0, -19.0, -19.0, -19.0, -19.0, -19.0, -19.0, -19.0, -19.0, -19.0, -19.0, -19.0, -19.0, -19.0, -19.0, -19.0, -19.0, -19.0, -19.0, -19.0, -19.0, -19.0, -19.0, -19.0, -19.0, -19.0, -19.0, -19.0, -19.0, -19.0, -19.0, -19.0, -19.0, -19.0, -19.0, -19.0, -19.0, -19.0, -19.0]\n"
     ]
    }
   ],
   "source": [
    "#IGNORE\n",
    "print(y)"
   ]
  },
  {
   "cell_type": "code",
   "execution_count": 29,
   "metadata": {},
   "outputs": [
    {
     "name": "stderr",
     "output_type": "stream",
     "text": [
      "'c' argument looks like a single numeric RGB or RGBA sequence, which should be avoided as value-mapping will have precedence in case its length matches with 'x' & 'y'.  Please use a 2-D array with a single row if you really want to specify the same RGB or RGBA value for all points.\n"
     ]
    },
    {
     "data": {
      "image/png": "[encoded data removed]",
      "text/plain": [
       "<Figure size 432x288 with 1 Axes>"
      ]
     },
     "metadata": {
      "needs_background": "light"
     },
     "output_type": "display_data"
    }
   ],
   "source": [
    "#IGNORE\n",
    "colors = (0,0,0)\n",
    "\n",
    "plt.scatter(x, y, c=colors, alpha=0.5)\n",
    "    \n",
    "plt.xlabel('days') #set x axis label\n",
    "plt.ylabel('price per day') #set y axis label\n",
    "\n",
    "plt.title('pricing model')\n",
    "\n",
    "plt.show()"
   ]
  }
 ],
 "metadata": {
  "kernelspec": {
   "display_name": "Python 3",
   "language": "python",
   "name": "python3"
  },
  "language_info": {
   "codemirror_mode": {
    "name": "ipython",
    "version": 3
   },
   "file_extension": ".py",
   "mimetype": "text/x-python",
   "name": "python",
   "nbconvert_exporter": "python",
   "pygments_lexer": "ipython3",
   "version": "3.7.6"
  }
 },
 "nbformat": 4,
 "nbformat_minor": 4
}
